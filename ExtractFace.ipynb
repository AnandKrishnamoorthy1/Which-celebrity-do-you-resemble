{
  "nbformat": 4,
  "nbformat_minor": 0,
  "metadata": {
    "colab": {
      "name": "ExtractFace.ipynb",
      "provenance": [],
      "collapsed_sections": [],
      "machine_shape": "hm"
    },
    "kernelspec": {
      "name": "python3",
      "display_name": "Python 3"
    },
    "accelerator": "GPU"
  },
  "cells": [
    {
      "cell_type": "code",
      "metadata": {
        "id": "s0KK7ZsAKkSN",
        "colab_type": "code",
        "colab": {}
      },
      "source": [
        "#!pip uninstall tensorflow\n",
        "#!pip install tensorflow==2.2.0\n",
        "\n",
        "#!pip uninstall keras -y\n",
        "#!pip install -Iv keras==2.3.0"
      ],
      "execution_count": null,
      "outputs": []
    },
    {
      "cell_type": "code",
      "metadata": {
        "id": "SR8O2TsSKs9a",
        "colab_type": "code",
        "colab": {
          "base_uri": "https://localhost:8080/",
          "height": 73
        },
        "outputId": "e89cdb72-6deb-43f7-ed2d-e56498025f76"
      },
      "source": [
        "import tensorflow as tf\n",
        "import keras.backend.tensorflow_backend as tfback\n",
        "\n",
        "print(\"tf.__version__ is\", tf.__version__)\n",
        "print(\"tf.keras.__version__ is:\", tf.keras.__version__)"
      ],
      "execution_count": null,
      "outputs": [
        {
          "output_type": "stream",
          "text": [
            "tf.__version__ is 2.2.0\n",
            "tf.keras.__version__ is: 2.3.0-tf\n"
          ],
          "name": "stdout"
        },
        {
          "output_type": "stream",
          "text": [
            "Using TensorFlow backend.\n"
          ],
          "name": "stderr"
        }
      ]
    },
    {
      "cell_type": "code",
      "metadata": {
        "id": "1Xndj76Oi2Dc",
        "colab_type": "code",
        "colab": {
          "base_uri": "https://localhost:8080/",
          "height": 299
        },
        "outputId": "d0c1ecb1-9a16-473c-84c9-6c7760fe04cf"
      },
      "source": [
        "# face detection with mtcnn\n",
        "!pip install mtcnn\n",
        "from matplotlib import pyplot\n",
        "from PIL import Image\n",
        "from numpy import asarray\n",
        "from mtcnn.mtcnn import MTCNN\n",
        "\n",
        "# extract face from a given image\n",
        "def extract_face(filename, required_size=(300,300)):\n",
        "\t# load image from file\n",
        "\tpixels = pyplot.imread(filename)\n",
        "\tdetector = MTCNN()\n",
        "\tresults = detector.detect_faces(pixels)\n",
        "\tx1, y1, width, height = results[0]['box']\n",
        "\tx2, y2 = x1 + width, y1 + height\n",
        "\tface = pixels[y1:y2, x1:x2]\n",
        "\t# extract face and return image\n",
        "\timage = Image.fromarray(face)\n",
        "\timage = image.resize(required_size)\n",
        "\timage.save(filename)\n",
        "\t#face_array = asarray(image)"
      ],
      "execution_count": null,
      "outputs": [
        {
          "output_type": "stream",
          "text": [
            "Collecting mtcnn\n",
            "\u001b[?25l  Downloading https://files.pythonhosted.org/packages/67/43/abee91792797c609c1bf30f1112117f7a87a713ebaa6ec5201d5555a73ef/mtcnn-0.1.0-py3-none-any.whl (2.3MB)\n",
            "\u001b[K     |████████████████████████████████| 2.3MB 2.7MB/s \n",
            "\u001b[?25hRequirement already satisfied: opencv-python>=4.1.0 in /usr/local/lib/python3.6/dist-packages (from mtcnn) (4.1.2.30)\n",
            "Requirement already satisfied: keras>=2.0.0 in /usr/local/lib/python3.6/dist-packages (from mtcnn) (2.3.0)\n",
            "Requirement already satisfied: numpy>=1.11.3 in /usr/local/lib/python3.6/dist-packages (from opencv-python>=4.1.0->mtcnn) (1.19.1)\n",
            "Requirement already satisfied: keras-applications>=1.0.6 in /usr/local/lib/python3.6/dist-packages (from keras>=2.0.0->mtcnn) (1.0.8)\n",
            "Requirement already satisfied: pyyaml in /usr/local/lib/python3.6/dist-packages (from keras>=2.0.0->mtcnn) (5.3.1)\n",
            "Requirement already satisfied: keras-preprocessing>=1.0.5 in /usr/local/lib/python3.6/dist-packages (from keras>=2.0.0->mtcnn) (1.1.2)\n",
            "Requirement already satisfied: scipy>=0.14 in /usr/local/lib/python3.6/dist-packages (from keras>=2.0.0->mtcnn) (1.5.2)\n",
            "Requirement already satisfied: h5py in /usr/local/lib/python3.6/dist-packages (from keras>=2.0.0->mtcnn) (2.10.0)\n",
            "Requirement already satisfied: six>=1.9.0 in /usr/local/lib/python3.6/dist-packages (from keras>=2.0.0->mtcnn) (1.15.0)\n",
            "Installing collected packages: mtcnn\n",
            "Successfully installed mtcnn-0.1.0\n"
          ],
          "name": "stdout"
        }
      ]
    },
    {
      "cell_type": "code",
      "metadata": {
        "id": "jh3BEx-qkbxa",
        "colab_type": "code",
        "colab": {
          "base_uri": "https://localhost:8080/",
          "height": 36
        },
        "outputId": "a3c8844d-34af-4fd8-c2c9-cf30900f92f0"
      },
      "source": [
        "from zipfile import ZipFile\n",
        "filename=\"data_sample.zip\"\n",
        "\n",
        "with ZipFile(filename,'r') as zip:\n",
        "  zip.extractall()\n",
        "  print(\"Extracted\")"
      ],
      "execution_count": null,
      "outputs": [
        {
          "output_type": "stream",
          "text": [
            "Extracted\n"
          ],
          "name": "stdout"
        }
      ]
    },
    {
      "cell_type": "code",
      "metadata": {
        "id": "-eLeL0-PkhyL",
        "colab_type": "code",
        "colab": {
          "base_uri": "https://localhost:8080/",
          "height": 111
        },
        "outputId": "757d850a-61c3-4ddf-9111-c5ce9e0f708f"
      },
      "source": [
        "import glob,os\n",
        "\n",
        "#Crop train folder\n",
        "path=r'data_sample'\n",
        "train_folders=glob.glob(path+'/train/*')\n",
        "\n",
        "print(\"images resize Started!!\")\n",
        "for folder in train_folders:\n",
        "    print(folder)\n",
        "    for filename in glob.glob(folder+'/*'):\n",
        "        try:\n",
        "          extract_face(filename)\n",
        "        except:\n",
        "          os.remove(filename)\n",
        "print(\"images resize Completed!!\")        "
      ],
      "execution_count": null,
      "outputs": [
        {
          "output_type": "stream",
          "text": [
            "images resize Started!!\n",
            "data_sample/train/Abhishek_Bachchan\n",
            "data_sample/train/Aamir_Khan\n",
            "data_sample/train/Abhay_Deol\n",
            "images resize Completed!!\n"
          ],
          "name": "stdout"
        }
      ]
    },
    {
      "cell_type": "code",
      "metadata": {
        "id": "5PUfY2o_ljgY",
        "colab_type": "code",
        "colab": {
          "base_uri": "https://localhost:8080/",
          "height": 355
        },
        "outputId": "02f58ab9-c7f3-4ebc-a0b1-251c0a626a04"
      },
      "source": [
        "#input path\n",
        "\n",
        "path=r'data_sample'\n",
        "train_folders=glob.glob(path+'/validation/*')\n",
        "\n",
        "print(\"images resize Started!!\")\n",
        "for folder in train_folders:\n",
        "    print(folder)\n",
        "    for filename in glob.glob(folder+'/*'):\n",
        "        try:\n",
        "          extract_face(filename)\n",
        "        except:\n",
        "          os.remove(filename)\n",
        "print(\"images resize Completed!!\")   "
      ],
      "execution_count": null,
      "outputs": [
        {
          "output_type": "stream",
          "text": [
            "images resize Started!!\n",
            "data_sample/validation/Abhishek_Bachchan\n",
            "data_sample/validation/Aamir_Khan\n"
          ],
          "name": "stdout"
        },
        {
          "output_type": "stream",
          "text": [
            "/usr/local/lib/python3.6/dist-packages/PIL/TiffImagePlugin.py:770: UserWarning: Possibly corrupt EXIF data.  Expecting to read 206 bytes but only got 0. Skipping tag 0\n",
            "  \" Skipping tag %s\" % (size, len(data), tag)\n",
            "/usr/local/lib/python3.6/dist-packages/PIL/TiffImagePlugin.py:770: UserWarning: Possibly corrupt EXIF data.  Expecting to read 724 bytes but only got 0. Skipping tag 0\n",
            "  \" Skipping tag %s\" % (size, len(data), tag)\n",
            "/usr/local/lib/python3.6/dist-packages/PIL/TiffImagePlugin.py:770: UserWarning: Possibly corrupt EXIF data.  Expecting to read 65536 bytes but only got 0. Skipping tag 0\n",
            "  \" Skipping tag %s\" % (size, len(data), tag)\n",
            "/usr/local/lib/python3.6/dist-packages/PIL/TiffImagePlugin.py:770: UserWarning: Possibly corrupt EXIF data.  Expecting to read 170 bytes but only got 0. Skipping tag 0\n",
            "  \" Skipping tag %s\" % (size, len(data), tag)\n",
            "/usr/local/lib/python3.6/dist-packages/PIL/TiffImagePlugin.py:770: UserWarning: Possibly corrupt EXIF data.  Expecting to read 178 bytes but only got 0. Skipping tag 0\n",
            "  \" Skipping tag %s\" % (size, len(data), tag)\n",
            "/usr/local/lib/python3.6/dist-packages/PIL/TiffImagePlugin.py:788: UserWarning: Corrupt EXIF data.  Expecting to read 12 bytes but only got 5. \n",
            "  warnings.warn(str(msg))\n"
          ],
          "name": "stderr"
        },
        {
          "output_type": "stream",
          "text": [
            "data_sample/validation/Abhay_Deol\n",
            "images resize Completed!!\n"
          ],
          "name": "stdout"
        }
      ]
    },
    {
      "cell_type": "code",
      "metadata": {
        "id": "UR_obh447sLa",
        "colab_type": "code",
        "colab": {
          "base_uri": "https://localhost:8080/",
          "height": 1000
        },
        "outputId": "a09c355c-bb2e-4903-a54a-cc2fa093974c"
      },
      "source": [
        "!zip -r ./data_sample_cropped_new.zip ./data_sample/"
      ],
      "execution_count": null,
      "outputs": [
        {
          "output_type": "stream",
          "text": [
            "  adding: data_sample/ (stored 0%)\n",
            "  adding: data_sample/train/ (stored 0%)\n",
            "  adding: data_sample/train/Abhishek_Bachchan/ (stored 0%)\n",
            "  adding: data_sample/train/Abhishek_Bachchan/46.jpg (deflated 1%)\n",
            "  adding: data_sample/train/Abhishek_Bachchan/62.jpg (deflated 1%)\n",
            "  adding: data_sample/train/Abhishek_Bachchan/70.jpg (deflated 1%)\n",
            "  adding: data_sample/train/Abhishek_Bachchan/32.jpg (deflated 1%)\n",
            "  adding: data_sample/train/Abhishek_Bachchan/59.jpg (deflated 1%)\n",
            "  adding: data_sample/train/Abhishek_Bachchan/54.jpg (deflated 2%)\n",
            "  adding: data_sample/train/Abhishek_Bachchan/61.jpg (deflated 1%)\n",
            "  adding: data_sample/train/Abhishek_Bachchan/53.jpg (deflated 1%)\n",
            "  adding: data_sample/train/Abhishek_Bachchan/79.jpg (deflated 1%)\n",
            "  adding: data_sample/train/Abhishek_Bachchan/67.jpg (deflated 1%)\n",
            "  adding: data_sample/train/Abhishek_Bachchan/64.jpg (deflated 1%)\n",
            "  adding: data_sample/train/Abhishek_Bachchan/21.jpg (deflated 1%)\n",
            "  adding: data_sample/train/Abhishek_Bachchan/73.jpg (deflated 3%)\n",
            "  adding: data_sample/train/Abhishek_Bachchan/42.jpg (deflated 1%)\n",
            "  adding: data_sample/train/Abhishek_Bachchan/26.jpg (deflated 1%)\n",
            "  adding: data_sample/train/Abhishek_Bachchan/15.jpg (deflated 1%)\n",
            "  adding: data_sample/train/Abhishek_Bachchan/38.jpg (deflated 1%)\n",
            "  adding: data_sample/train/Abhishek_Bachchan/66.jpg (deflated 1%)\n",
            "  adding: data_sample/train/Abhishek_Bachchan/12.jpg (deflated 1%)\n",
            "  adding: data_sample/train/Abhishek_Bachchan/80.jpg (deflated 1%)\n",
            "  adding: data_sample/train/Abhishek_Bachchan/30.jpg (deflated 1%)\n",
            "  adding: data_sample/train/Abhishek_Bachchan/57.jpg (deflated 1%)\n",
            "  adding: data_sample/train/Abhishek_Bachchan/7.jpg (deflated 1%)\n",
            "  adding: data_sample/train/Abhishek_Bachchan/69.jpg (deflated 1%)\n",
            "  adding: data_sample/train/Abhishek_Bachchan/50.jpg (deflated 1%)\n",
            "  adding: data_sample/train/Abhishek_Bachchan/81.jpg (deflated 1%)\n",
            "  adding: data_sample/train/Abhishek_Bachchan/5.jpg (deflated 1%)\n",
            "  adding: data_sample/train/Abhishek_Bachchan/22.jpg (deflated 1%)\n",
            "  adding: data_sample/train/Abhishek_Bachchan/3.jpg (deflated 1%)\n",
            "  adding: data_sample/train/Abhishek_Bachchan/10.jpg (deflated 2%)\n",
            "  adding: data_sample/train/Abhishek_Bachchan/77.jpg (deflated 1%)\n",
            "  adding: data_sample/train/Abhishek_Bachchan/33.jpg (deflated 1%)\n",
            "  adding: data_sample/train/Abhishek_Bachchan/2.jpg (deflated 1%)\n",
            "  adding: data_sample/train/Abhishek_Bachchan/19.jpg (deflated 1%)\n",
            "  adding: data_sample/train/Abhishek_Bachchan/37.jpg (deflated 1%)\n",
            "  adding: data_sample/train/Abhishek_Bachchan/23.jpg (deflated 1%)\n",
            "  adding: data_sample/train/Abhishek_Bachchan/60.jpg (deflated 2%)\n",
            "  adding: data_sample/train/Abhishek_Bachchan/14.jpg (deflated 1%)\n",
            "  adding: data_sample/train/Abhishek_Bachchan/51.jpg (deflated 2%)\n",
            "  adding: data_sample/train/Abhishek_Bachchan/55.jpg (deflated 2%)\n",
            "  adding: data_sample/train/Abhishek_Bachchan/1.jpg (deflated 1%)\n",
            "  adding: data_sample/train/Abhishek_Bachchan/52.jpg (deflated 1%)\n",
            "  adding: data_sample/train/Abhishek_Bachchan/65.jpg (deflated 2%)\n",
            "  adding: data_sample/train/Abhishek_Bachchan/63.jpg (deflated 2%)\n",
            "  adding: data_sample/train/Abhishek_Bachchan/17.jpg (deflated 1%)\n",
            "  adding: data_sample/train/Abhishek_Bachchan/71.jpg (deflated 1%)\n",
            "  adding: data_sample/train/Abhishek_Bachchan/43.jpg (deflated 1%)\n",
            "  adding: data_sample/train/Abhishek_Bachchan/48.jpg (deflated 1%)\n",
            "  adding: data_sample/train/Abhishek_Bachchan/25.jpg (deflated 32%)\n",
            "  adding: data_sample/train/Abhishek_Bachchan/45.jpg (deflated 2%)\n",
            "  adding: data_sample/train/Abhishek_Bachchan/58.jpg (deflated 3%)\n",
            "  adding: data_sample/train/Abhishek_Bachchan/74.jpg (deflated 1%)\n",
            "  adding: data_sample/train/Abhishek_Bachchan/76.jpg (deflated 1%)\n",
            "  adding: data_sample/train/Abhishek_Bachchan/75.jpg (deflated 2%)\n",
            "  adding: data_sample/train/Abhishek_Bachchan/44.jpg (deflated 1%)\n",
            "  adding: data_sample/train/Abhishek_Bachchan/18.jpg (deflated 2%)\n",
            "  adding: data_sample/train/Abhishek_Bachchan/24.jpg (deflated 1%)\n",
            "  adding: data_sample/train/Abhishek_Bachchan/39.jpg (deflated 2%)\n",
            "  adding: data_sample/train/Abhishek_Bachchan/9.jpg (deflated 1%)\n",
            "  adding: data_sample/train/Abhishek_Bachchan/72.jpg (deflated 1%)\n",
            "  adding: data_sample/train/Abhishek_Bachchan/4.jpg (deflated 1%)\n",
            "  adding: data_sample/train/Abhishek_Bachchan/31.jpg (deflated 1%)\n",
            "  adding: data_sample/train/Abhishek_Bachchan/0.jpg (deflated 1%)\n",
            "  adding: data_sample/train/Abhishek_Bachchan/78.jpg (deflated 1%)\n",
            "  adding: data_sample/train/Abhishek_Bachchan/34.jpg (deflated 1%)\n",
            "  adding: data_sample/train/Abhishek_Bachchan/35.jpg (deflated 2%)\n",
            "  adding: data_sample/train/Abhishek_Bachchan/27.jpg (deflated 1%)\n",
            "  adding: data_sample/train/Abhishek_Bachchan/8.jpg (deflated 1%)\n",
            "  adding: data_sample/train/Abhishek_Bachchan/56.jpg (deflated 1%)\n",
            "  adding: data_sample/train/Abhishek_Bachchan/20.jpg (deflated 1%)\n",
            "  adding: data_sample/train/Abhishek_Bachchan/6.jpg (deflated 1%)\n",
            "  adding: data_sample/train/Abhishek_Bachchan/16.jpg (deflated 1%)\n",
            "  adding: data_sample/train/Abhishek_Bachchan/36.jpg (deflated 2%)\n",
            "  adding: data_sample/train/Abhishek_Bachchan/47.jpg (deflated 1%)\n",
            "  adding: data_sample/train/Abhishek_Bachchan/29.jpg (deflated 1%)\n",
            "  adding: data_sample/train/Abhishek_Bachchan/49.jpg (deflated 1%)\n",
            "  adding: data_sample/train/Abhishek_Bachchan/40.jpg (deflated 1%)\n",
            "  adding: data_sample/train/Abhishek_Bachchan/11.jpg (deflated 1%)\n",
            "  adding: data_sample/train/Abhishek_Bachchan/28.jpg (deflated 1%)\n",
            "  adding: data_sample/train/Abhishek_Bachchan/13.jpg (deflated 1%)\n",
            "  adding: data_sample/train/Aamir_Khan/ (stored 0%)\n",
            "  adding: data_sample/train/Aamir_Khan/91.jpg (deflated 4%)\n",
            "  adding: data_sample/train/Aamir_Khan/46.jpg (deflated 3%)\n",
            "  adding: data_sample/train/Aamir_Khan/62.jpg (deflated 17%)\n",
            "  adding: data_sample/train/Aamir_Khan/70.jpg (deflated 7%)\n",
            "  adding: data_sample/train/Aamir_Khan/106.jpg (deflated 30%)\n",
            "  adding: data_sample/train/Aamir_Khan/32.jpg (deflated 5%)\n",
            "  adding: data_sample/train/Aamir_Khan/54.jpg (deflated 1%)\n",
            "  adding: data_sample/train/Aamir_Khan/61.jpg (deflated 63%)\n",
            "  adding: data_sample/train/Aamir_Khan/53.jpg (deflated 31%)\n",
            "  adding: data_sample/train/Aamir_Khan/79.jpg (deflated 1%)\n",
            "  adding: data_sample/train/Aamir_Khan/67.jpg (deflated 15%)\n",
            "  adding: data_sample/train/Aamir_Khan/64.jpg (deflated 7%)\n",
            "  adding: data_sample/train/Aamir_Khan/21.jpg (deflated 9%)\n",
            "  adding: data_sample/train/Aamir_Khan/73.jpg (deflated 7%)\n",
            "  adding: data_sample/train/Aamir_Khan/108.jpg (deflated 9%)\n",
            "  adding: data_sample/train/Aamir_Khan/42.jpg (deflated 4%)\n",
            "  adding: data_sample/train/Aamir_Khan/26.jpg (deflated 9%)\n",
            "  adding: data_sample/train/Aamir_Khan/15.jpg (deflated 1%)\n",
            "  adding: data_sample/train/Aamir_Khan/38.jpg (deflated 4%)\n",
            "  adding: data_sample/train/Aamir_Khan/66.jpg (deflated 14%)\n",
            "  adding: data_sample/train/Aamir_Khan/12.jpg (deflated 13%)\n",
            "  adding: data_sample/train/Aamir_Khan/96.jpg (deflated 59%)\n",
            "  adding: data_sample/train/Aamir_Khan/80.jpg (deflated 5%)\n",
            "  adding: data_sample/train/Aamir_Khan/30.jpg (deflated 7%)\n",
            "  adding: data_sample/train/Aamir_Khan/93.jpg (deflated 3%)\n",
            "  adding: data_sample/train/Aamir_Khan/57.jpg (deflated 1%)\n",
            "  adding: data_sample/train/Aamir_Khan/7.jpg (deflated 6%)\n",
            "  adding: data_sample/train/Aamir_Khan/69.jpg (deflated 3%)\n",
            "  adding: data_sample/train/Aamir_Khan/50.jpg (deflated 13%)\n",
            "  adding: data_sample/train/Aamir_Khan/81.jpg (deflated 13%)\n",
            "  adding: data_sample/train/Aamir_Khan/5.jpg (deflated 9%)\n",
            "  adding: data_sample/train/Aamir_Khan/22.jpg (deflated 13%)\n",
            "  adding: data_sample/train/Aamir_Khan/3.jpg (deflated 4%)\n",
            "  adding: data_sample/train/Aamir_Khan/10.jpg (deflated 1%)\n",
            "  adding: data_sample/train/Aamir_Khan/77.jpg (deflated 2%)\n",
            "  adding: data_sample/train/Aamir_Khan/105.jpg (deflated 5%)\n",
            "  adding: data_sample/train/Aamir_Khan/2.jpg (deflated 1%)\n",
            "  adding: data_sample/train/Aamir_Khan/19.jpg (deflated 72%)\n",
            "  adding: data_sample/train/Aamir_Khan/99.jpg (deflated 1%)\n",
            "  adding: data_sample/train/Aamir_Khan/23.jpg (deflated 20%)\n",
            "  adding: data_sample/train/Aamir_Khan/89.jpg (deflated 6%)\n",
            "  adding: data_sample/train/Aamir_Khan/60.jpg (deflated 87%)\n",
            "  adding: data_sample/train/Aamir_Khan/103.jpg (deflated 10%)\n",
            "  adding: data_sample/train/Aamir_Khan/85.jpg (deflated 2%)\n",
            "  adding: data_sample/train/Aamir_Khan/14.jpg (deflated 5%)\n",
            "  adding: data_sample/train/Aamir_Khan/107.jpg (deflated 18%)\n",
            "  adding: data_sample/train/Aamir_Khan/55.jpg (deflated 3%)\n",
            "  adding: data_sample/train/Aamir_Khan/1.jpg (deflated 1%)\n",
            "  adding: data_sample/train/Aamir_Khan/52.jpg (deflated 4%)\n",
            "  adding: data_sample/train/Aamir_Khan/65.jpg (deflated 8%)\n",
            "  adding: data_sample/train/Aamir_Khan/84.jpg (deflated 1%)\n",
            "  adding: data_sample/train/Aamir_Khan/17.jpg (deflated 4%)\n",
            "  adding: data_sample/train/Aamir_Khan/71.jpg (deflated 1%)\n",
            "  adding: data_sample/train/Aamir_Khan/101.jpg (deflated 1%)\n",
            "  adding: data_sample/train/Aamir_Khan/95.jpg (deflated 8%)\n",
            "  adding: data_sample/train/Aamir_Khan/25.jpg (deflated 9%)\n",
            "  adding: data_sample/train/Aamir_Khan/98.jpg (deflated 1%)\n",
            "  adding: data_sample/train/Aamir_Khan/58.jpg (deflated 3%)\n",
            "  adding: data_sample/train/Aamir_Khan/74.jpg (deflated 1%)\n",
            "  adding: data_sample/train/Aamir_Khan/90.jpg (deflated 3%)\n",
            "  adding: data_sample/train/Aamir_Khan/83.jpg (deflated 1%)\n",
            "  adding: data_sample/train/Aamir_Khan/97.jpg (deflated 33%)\n",
            "  adding: data_sample/train/Aamir_Khan/75.jpg (deflated 1%)\n",
            "  adding: data_sample/train/Aamir_Khan/100.jpg (deflated 6%)\n",
            "  adding: data_sample/train/Aamir_Khan/44.jpg (deflated 23%)\n",
            "  adding: data_sample/train/Aamir_Khan/18.jpg (deflated 20%)\n",
            "  adding: data_sample/train/Aamir_Khan/24.jpg (deflated 6%)\n",
            "  adding: data_sample/train/Aamir_Khan/39.jpg (deflated 9%)\n",
            "  adding: data_sample/train/Aamir_Khan/9.jpg (deflated 7%)\n",
            "  adding: data_sample/train/Aamir_Khan/72.jpg (deflated 4%)\n",
            "  adding: data_sample/train/Aamir_Khan/4.jpg (deflated 4%)\n",
            "  adding: data_sample/train/Aamir_Khan/0.jpg (deflated 8%)\n",
            "  adding: data_sample/train/Aamir_Khan/41.jpg (deflated 10%)\n",
            "  adding: data_sample/train/Aamir_Khan/34.jpg (deflated 1%)\n",
            "  adding: data_sample/train/Aamir_Khan/35.jpg (deflated 11%)\n",
            "  adding: data_sample/train/Aamir_Khan/27.jpg (deflated 11%)\n",
            "  adding: data_sample/train/Aamir_Khan/68.jpg (deflated 62%)\n",
            "  adding: data_sample/train/Aamir_Khan/56.jpg (deflated 7%)\n",
            "  adding: data_sample/train/Aamir_Khan/20.jpg (deflated 5%)\n",
            "  adding: data_sample/train/Aamir_Khan/6.jpg (deflated 7%)\n",
            "  adding: data_sample/train/Aamir_Khan/16.jpg (deflated 1%)\n",
            "  adding: data_sample/train/Aamir_Khan/82.jpg (deflated 8%)\n",
            "  adding: data_sample/train/Aamir_Khan/47.jpg (deflated 14%)\n",
            "  adding: data_sample/train/Aamir_Khan/29.jpg (deflated 13%)\n",
            "  adding: data_sample/train/Aamir_Khan/49.jpg (deflated 1%)\n",
            "  adding: data_sample/train/Aamir_Khan/40.jpg (deflated 5%)\n",
            "  adding: data_sample/train/Aamir_Khan/102.jpg (deflated 1%)\n",
            "  adding: data_sample/train/Aamir_Khan/11.jpg (deflated 4%)\n",
            "  adding: data_sample/train/Aamir_Khan/28.jpg (deflated 17%)\n",
            "  adding: data_sample/train/Aamir_Khan/94.jpg (deflated 78%)\n",
            "  adding: data_sample/train/Aamir_Khan/13.jpg (deflated 7%)\n",
            "  adding: data_sample/train/Abhay_Deol/ (stored 0%)\n",
            "  adding: data_sample/train/Abhay_Deol/46.jpg (deflated 1%)\n",
            "  adding: data_sample/train/Abhay_Deol/32.jpg (deflated 1%)\n",
            "  adding: data_sample/train/Abhay_Deol/59.jpg (deflated 1%)\n",
            "  adding: data_sample/train/Abhay_Deol/54.jpg (deflated 2%)\n",
            "  adding: data_sample/train/Abhay_Deol/53.jpg (deflated 1%)\n",
            "  adding: data_sample/train/Abhay_Deol/21.jpg (deflated 26%)\n",
            "  adding: data_sample/train/Abhay_Deol/42.jpg (deflated 2%)\n",
            "  adding: data_sample/train/Abhay_Deol/26.jpg (deflated 34%)\n",
            "  adding: data_sample/train/Abhay_Deol/38.jpg (deflated 2%)\n",
            "  adding: data_sample/train/Abhay_Deol/12.jpg (deflated 11%)\n",
            "  adding: data_sample/train/Abhay_Deol/30.jpg (deflated 1%)\n",
            "  adding: data_sample/train/Abhay_Deol/57.jpg (deflated 2%)\n",
            "  adding: data_sample/train/Abhay_Deol/7.jpg (deflated 2%)\n",
            "  adding: data_sample/train/Abhay_Deol/50.jpg (deflated 1%)\n",
            "  adding: data_sample/train/Abhay_Deol/5.jpg (deflated 1%)\n",
            "  adding: data_sample/train/Abhay_Deol/22.jpg (deflated 2%)\n",
            "  adding: data_sample/train/Abhay_Deol/3.jpg (deflated 7%)\n",
            "  adding: data_sample/train/Abhay_Deol/10.jpg (deflated 14%)\n",
            "  adding: data_sample/train/Abhay_Deol/33.jpg (deflated 1%)\n",
            "  adding: data_sample/train/Abhay_Deol/2.jpg (deflated 8%)\n",
            "  adding: data_sample/train/Abhay_Deol/37.jpg (deflated 3%)\n",
            "  adding: data_sample/train/Abhay_Deol/23.jpg (deflated 7%)\n",
            "  adding: data_sample/train/Abhay_Deol/60.jpg (deflated 2%)\n",
            "  adding: data_sample/train/Abhay_Deol/14.jpg (deflated 22%)\n",
            "  adding: data_sample/train/Abhay_Deol/51.jpg (deflated 1%)\n",
            "  adding: data_sample/train/Abhay_Deol/55.jpg (deflated 1%)\n",
            "  adding: data_sample/train/Abhay_Deol/1.jpg (deflated 10%)\n",
            "  adding: data_sample/train/Abhay_Deol/52.jpg (deflated 1%)\n",
            "  adding: data_sample/train/Abhay_Deol/17.jpg (deflated 2%)\n",
            "  adding: data_sample/train/Abhay_Deol/43.jpg (deflated 2%)\n",
            "  adding: data_sample/train/Abhay_Deol/48.jpg (deflated 1%)\n",
            "  adding: data_sample/train/Abhay_Deol/25.jpg (deflated 1%)\n",
            "  adding: data_sample/train/Abhay_Deol/45.jpg (deflated 1%)\n",
            "  adding: data_sample/train/Abhay_Deol/58.jpg (deflated 2%)\n",
            "  adding: data_sample/train/Abhay_Deol/44.jpg (deflated 1%)\n",
            "  adding: data_sample/train/Abhay_Deol/18.jpg (deflated 18%)\n",
            "  adding: data_sample/train/Abhay_Deol/24.jpg (deflated 4%)\n",
            "  adding: data_sample/train/Abhay_Deol/39.jpg (deflated 1%)\n",
            "  adding: data_sample/train/Abhay_Deol/9.jpg (deflated 1%)\n",
            "  adding: data_sample/train/Abhay_Deol/4.jpg (deflated 2%)\n",
            "  adding: data_sample/train/Abhay_Deol/31.jpg (deflated 1%)\n",
            "  adding: data_sample/train/Abhay_Deol/0.jpg (deflated 13%)\n",
            "  adding: data_sample/train/Abhay_Deol/35.jpg (deflated 1%)\n",
            "  adding: data_sample/train/Abhay_Deol/56.jpg (deflated 2%)\n",
            "  adding: data_sample/train/Abhay_Deol/6.jpg (deflated 2%)\n",
            "  adding: data_sample/train/Abhay_Deol/16.jpg (deflated 2%)\n",
            "  adding: data_sample/train/Abhay_Deol/36.jpg (deflated 1%)\n",
            "  adding: data_sample/train/Abhay_Deol/29.jpg (deflated 23%)\n",
            "  adding: data_sample/train/Abhay_Deol/49.jpg (deflated 1%)\n",
            "  adding: data_sample/train/Abhay_Deol/40.jpg (deflated 1%)\n",
            "  adding: data_sample/train/Abhay_Deol/11.jpg (deflated 6%)\n",
            "  adding: data_sample/train/Abhay_Deol/28.jpg (deflated 1%)\n",
            "  adding: data_sample/train/Abhay_Deol/13.jpg (deflated 22%)\n",
            "  adding: data_sample/Test/ (stored 0%)\n",
            "  adding: data_sample/Test/sundar01.jfif (deflated 0%)\n",
            "  adding: data_sample/Test/sharon_stone2.jpg (deflated 28%)\n",
            "  adding: data_sample/Test/AjayDevgn_crop.jpg (deflated 1%)\n",
            "  adding: data_sample/Test/sharon_stone3.jpg (deflated 1%)\n",
            "  adding: data_sample/Test/AjayDevgn.jpg (deflated 1%)\n",
            "  adding: data_sample/Test/Abishek.jpg (deflated 0%)\n",
            "  adding: data_sample/Test/Amitabh.jfif (deflated 0%)\n",
            "  adding: data_sample/Test/sharon_stone1.jfif (deflated 1%)\n",
            "  adding: data_sample/Test/sundar02.jfif (deflated 0%)\n",
            "  adding: data_sample/Test/Amithab.jfif (deflated 0%)\n",
            "  adding: data_sample/Test/channing_tatum.jpg (deflated 1%)\n",
            "  adding: data_sample/validation/ (stored 0%)\n",
            "  adding: data_sample/validation/Abhishek_Bachchan/ (stored 0%)\n",
            "  adding: data_sample/validation/Abhishek_Bachchan/15.jpg (deflated 1%)\n",
            "  adding: data_sample/validation/Abhishek_Bachchan/12.jpg (deflated 1%)\n",
            "  adding: data_sample/validation/Abhishek_Bachchan/7.jpg (deflated 2%)\n",
            "  adding: data_sample/validation/Abhishek_Bachchan/5.jpg (deflated 1%)\n",
            "  adding: data_sample/validation/Abhishek_Bachchan/3.jpg (deflated 1%)\n",
            "  adding: data_sample/validation/Abhishek_Bachchan/10.jpg (deflated 2%)\n",
            "  adding: data_sample/validation/Abhishek_Bachchan/2.jpg (deflated 2%)\n",
            "  adding: data_sample/validation/Abhishek_Bachchan/19.jpg (deflated 1%)\n",
            "  adding: data_sample/validation/Abhishek_Bachchan/14.jpg (deflated 1%)\n",
            "  adding: data_sample/validation/Abhishek_Bachchan/1.jpg (deflated 1%)\n",
            "  adding: data_sample/validation/Abhishek_Bachchan/17.jpg (deflated 1%)\n",
            "  adding: data_sample/validation/Abhishek_Bachchan/18.jpg (deflated 2%)\n",
            "  adding: data_sample/validation/Abhishek_Bachchan/9.jpg (deflated 1%)\n",
            "  adding: data_sample/validation/Abhishek_Bachchan/4.jpg (deflated 4%)\n",
            "  adding: data_sample/validation/Abhishek_Bachchan/0.jpg (deflated 4%)\n",
            "  adding: data_sample/validation/Abhishek_Bachchan/8.jpg (deflated 1%)\n",
            "  adding: data_sample/validation/Abhishek_Bachchan/20.jpg (deflated 1%)\n",
            "  adding: data_sample/validation/Abhishek_Bachchan/6.jpg (deflated 1%)\n",
            "  adding: data_sample/validation/Abhishek_Bachchan/16.jpg (deflated 1%)\n",
            "  adding: data_sample/validation/Abhishek_Bachchan/11.jpg (deflated 1%)\n",
            "  adding: data_sample/validation/Abhishek_Bachchan/13.jpg (deflated 2%)\n",
            "  adding: data_sample/validation/Aamir_Khan/ (stored 0%)\n",
            "  adding: data_sample/validation/Aamir_Khan/21.jpg (deflated 1%)\n",
            "  adding: data_sample/validation/Aamir_Khan/15.jpg (deflated 1%)\n",
            "  adding: data_sample/validation/Aamir_Khan/12.jpg (deflated 2%)\n",
            "  adding: data_sample/validation/Aamir_Khan/7.jpg (deflated 1%)\n",
            "  adding: data_sample/validation/Aamir_Khan/5.jpg (deflated 2%)\n",
            "  adding: data_sample/validation/Aamir_Khan/22.jpg (deflated 2%)\n",
            "  adding: data_sample/validation/Aamir_Khan/3.jpg (deflated 2%)\n",
            "  adding: data_sample/validation/Aamir_Khan/10.jpg (deflated 1%)\n",
            "  adding: data_sample/validation/Aamir_Khan/2.jpg (deflated 2%)\n",
            "  adding: data_sample/validation/Aamir_Khan/19.jpg (deflated 1%)\n",
            "  adding: data_sample/validation/Aamir_Khan/23.jpg (deflated 2%)\n",
            "  adding: data_sample/validation/Aamir_Khan/14.jpg (deflated 1%)\n",
            "  adding: data_sample/validation/Aamir_Khan/1.jpg (deflated 1%)\n",
            "  adding: data_sample/validation/Aamir_Khan/17.jpg (deflated 1%)\n",
            "  adding: data_sample/validation/Aamir_Khan/18.jpg (deflated 1%)\n",
            "  adding: data_sample/validation/Aamir_Khan/9.jpg (deflated 1%)\n",
            "  adding: data_sample/validation/Aamir_Khan/4.jpg (deflated 1%)\n",
            "  adding: data_sample/validation/Aamir_Khan/0.jpg (deflated 1%)\n",
            "  adding: data_sample/validation/Aamir_Khan/8.jpg (deflated 1%)\n",
            "  adding: data_sample/validation/Aamir_Khan/20.jpg (deflated 1%)\n",
            "  adding: data_sample/validation/Aamir_Khan/6.jpg (deflated 1%)\n",
            "  adding: data_sample/validation/Aamir_Khan/16.jpg (deflated 1%)\n",
            "  adding: data_sample/validation/Aamir_Khan/11.jpg (deflated 1%)\n",
            "  adding: data_sample/validation/Aamir_Khan/13.jpg (deflated 2%)\n",
            "  adding: data_sample/validation/Abhay_Deol/ (stored 0%)\n",
            "  adding: data_sample/validation/Abhay_Deol/12.jpg (deflated 1%)\n",
            "  adding: data_sample/validation/Abhay_Deol/7.jpg (deflated 1%)\n",
            "  adding: data_sample/validation/Abhay_Deol/5.jpg (deflated 1%)\n",
            "  adding: data_sample/validation/Abhay_Deol/3.jpg (deflated 1%)\n",
            "  adding: data_sample/validation/Abhay_Deol/10.jpg (deflated 1%)\n",
            "  adding: data_sample/validation/Abhay_Deol/2.jpg (deflated 1%)\n",
            "  adding: data_sample/validation/Abhay_Deol/1.jpg (deflated 1%)\n",
            "  adding: data_sample/validation/Abhay_Deol/9.jpg (deflated 1%)\n",
            "  adding: data_sample/validation/Abhay_Deol/4.jpg (deflated 1%)\n",
            "  adding: data_sample/validation/Abhay_Deol/0.jpg (deflated 1%)\n",
            "  adding: data_sample/validation/Abhay_Deol/8.jpg (deflated 2%)\n",
            "  adding: data_sample/validation/Abhay_Deol/6.jpg (deflated 1%)\n",
            "  adding: data_sample/validation/Abhay_Deol/11.jpg (deflated 2%)\n",
            "  adding: data_sample/validation/Abhay_Deol/13.jpg (deflated 1%)\n"
          ],
          "name": "stdout"
        }
      ]
    },
    {
      "cell_type": "code",
      "metadata": {
        "id": "EJ4aJmTV-xVv",
        "colab_type": "code",
        "colab": {
          "base_uri": "https://localhost:8080/",
          "height": 36
        },
        "outputId": "dab97c2a-e001-4459-9937-c4180ba20207"
      },
      "source": [
        "print(\"Hello\")"
      ],
      "execution_count": null,
      "outputs": [
        {
          "output_type": "stream",
          "text": [
            "Hello\n"
          ],
          "name": "stdout"
        }
      ]
    },
    {
      "cell_type": "code",
      "metadata": {
        "id": "lmmlT8hSILSn",
        "colab_type": "code",
        "colab": {}
      },
      "source": [
        ""
      ],
      "execution_count": null,
      "outputs": []
    }
  ]
}